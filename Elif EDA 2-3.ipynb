{
 "cells": [
  {
   "cell_type": "code",
   "execution_count": 0,
   "metadata": {
    "application/vnd.databricks.v1+cell": {
     "cellMetadata": {
      "byteLimit": 2048000,
      "rowLimit": 10000
     },
     "inputWidgets": {},
     "nuid": "f6fba670-1c5e-40c0-af80-49cef49d20b9",
     "showTitle": false,
     "tableResultSettingsMap": {},
     "title": ""
    }
   },
   "outputs": [],
   "source": [
    "df_raw = spark.table(\"ds25_wp1.consumer_bronze.consumer\")"
   ]
  },
  {
   "cell_type": "code",
   "execution_count": 0,
   "metadata": {
    "application/vnd.databricks.v1+cell": {
     "cellMetadata": {
      "byteLimit": 2048000,
      "rowLimit": 10000
     },
     "inputWidgets": {},
     "nuid": "b6d6a8be-029e-43dd-b2fc-8a4360599433",
     "showTitle": false,
     "tableResultSettingsMap": {},
     "title": ""
    }
   },
   "outputs": [
    {
     "output_type": "execute_result",
     "data": {
      "text/plain": [
       "21255641"
      ]
     },
     "execution_count": 2,
     "metadata": {},
     "output_type": "execute_result"
    }
   ],
   "source": [
    "df_raw.filter(df_raw['Latitude'].isNotNull() & df_raw['Longitude'].isNotNull()).count()\n"
   ]
  },
  {
   "cell_type": "code",
   "execution_count": 0,
   "metadata": {
    "application/vnd.databricks.v1+cell": {
     "cellMetadata": {
      "byteLimit": 2048000,
      "rowLimit": 10000
     },
     "inputWidgets": {},
     "nuid": "e94f6176-4f76-48e4-9dd0-c4caf454e7c9",
     "showTitle": false,
     "tableResultSettingsMap": {},
     "title": ""
    }
   },
   "outputs": [],
   "source": [
    "selected_cols = [\n",
    "    'CustomerID', 'ZIPCode', 'State', 'Latitude', 'Longitude',\n",
    "    'PresenceOfChildrenInd', 'FoodWines', 'Jewelry',\n",
    "    'UpscaleLiving', 'OnlinePurchasingIndicator'\n",
    "]\n",
    "\n",
    "\n",
    "df = (\n",
    "    df_raw\n",
    "    .filter(df_raw['Latitude'].isNotNull() & df_raw['Longitude'].isNotNull())\n",
    "    .select(*selected_cols)\n",
    "    .sample(False, 0.01, seed=42)\n",
    "    .toPandas()\n",
    ")\n"
   ]
  },
  {
   "cell_type": "code",
   "execution_count": 0,
   "metadata": {
    "application/vnd.databricks.v1+cell": {
     "cellMetadata": {
      "byteLimit": 2048000,
      "rowLimit": 10000
     },
     "inputWidgets": {},
     "nuid": "42a3a278-319c-463c-9071-a5b569e6ae72",
     "showTitle": false,
     "tableResultSettingsMap": {},
     "title": ""
    }
   },
   "outputs": [
    {
     "output_type": "execute_result",
     "data": {
      "text/plain": [
       "(212536, 10)"
      ]
     },
     "execution_count": 4,
     "metadata": {},
     "output_type": "execute_result"
    }
   ],
   "source": [
    "df.shape"
   ]
  },
  {
   "cell_type": "code",
   "execution_count": 0,
   "metadata": {
    "application/vnd.databricks.v1+cell": {
     "cellMetadata": {
      "byteLimit": 2048000,
      "rowLimit": 10000
     },
     "inputWidgets": {},
     "nuid": "f14a3943-98af-481b-8238-7539ef66b4ae",
     "showTitle": false,
     "tableResultSettingsMap": {},
     "title": ""
    }
   },
   "outputs": [],
   "source": [
    "binary_cols = [\n",
    "    'PresenceOfChildrenInd',\n",
    "    'FoodWines',\n",
    "    'Jewelry',\n",
    "    'UpscaleLiving',\n",
    "    'OnlinePurchasingIndicator'\n",
    "]\n",
    "\n",
    "for col in binary_cols:\n",
    "    df[col] = df[col].map({'Y': 1, 'N': 0})\n",
    "\n"
   ]
  },
  {
   "cell_type": "code",
   "execution_count": 0,
   "metadata": {
    "application/vnd.databricks.v1+cell": {
     "cellMetadata": {
      "byteLimit": 2048000,
      "rowLimit": 10000
     },
     "inputWidgets": {},
     "nuid": "19c5446c-3226-49e5-989e-ecabfd52c5fb",
     "showTitle": false,
     "tableResultSettingsMap": {},
     "title": ""
    }
   },
   "outputs": [],
   "source": [
    "def is_ideal(row):\n",
    "    return (\n",
    "        row['PresenceOfChildrenInd'] == 1 and\n",
    "        row['FoodWines'] == 1 and\n",
    "        row['UpscaleLiving'] == 1\n",
    "    )\n",
    "\n",
    "df['IdealCustomer'] = df.apply(is_ideal, axis=1)\n"
   ]
  },
  {
   "cell_type": "code",
   "execution_count": 0,
   "metadata": {
    "application/vnd.databricks.v1+cell": {
     "cellMetadata": {
      "byteLimit": 2048000,
      "rowLimit": 10000
     },
     "inputWidgets": {},
     "nuid": "c0dc3af4-6158-49b1-9f49-8df66d65bb7a",
     "showTitle": false,
     "tableResultSettingsMap": {},
     "title": ""
    }
   },
   "outputs": [],
   "source": [
    "import pandas as pd\n",
    "zip_summary = (\n",
    "    df[df['IdealCustomer'] == True]\n",
    "    .groupby('ZIPCode')\n",
    "    .agg(\n",
    "        ideal_count=('CustomerID', 'count'),\n",
    "        Latitude=('Latitude', 'first'),\n",
    "        Longitude=('Longitude', 'first')\n",
    "    )\n",
    "    .sort_values('ideal_count', ascending=False)\n",
    "    .reset_index()\n",
    ")\n",
    "\n",
    "# STEP 2: Clean after creation\n",
    "zip_summary['Latitude'] = pd.to_numeric(zip_summary['Latitude'], errors='coerce')\n",
    "zip_summary['Longitude'] = pd.to_numeric(zip_summary['Longitude'], errors='coerce')\n",
    "zip_summary = zip_summary.dropna(subset=['Latitude', 'Longitude'])\n",
    "\n"
   ]
  },
  {
   "cell_type": "code",
   "execution_count": 0,
   "metadata": {
    "application/vnd.databricks.v1+cell": {
     "cellMetadata": {
      "byteLimit": 2048000,
      "rowLimit": 10000
     },
     "inputWidgets": {},
     "nuid": "1c4bed3d-50b4-41a8-bc74-ef2e6b414eac",
     "showTitle": false,
     "tableResultSettingsMap": {},
     "title": ""
    }
   },
   "outputs": [
    {
     "output_type": "execute_result",
     "data": {
      "text/plain": [
       "(626, 4)"
      ]
     },
     "execution_count": 8,
     "metadata": {},
     "output_type": "execute_result"
    }
   ],
   "source": [
    "zip_summary.shape\n"
   ]
  },
  {
   "cell_type": "code",
   "execution_count": 0,
   "metadata": {
    "application/vnd.databricks.v1+cell": {
     "cellMetadata": {
      "byteLimit": 2048000,
      "rowLimit": 10000
     },
     "inputWidgets": {},
     "nuid": "5e201efb-628b-44a2-8bbc-1075c7bc6ac2",
     "showTitle": false,
     "tableResultSettingsMap": {},
     "title": ""
    }
   },
   "outputs": [
    {
     "output_type": "execute_result",
     "data": {
      "text/plain": [
       "False    210845\n",
       "True       1691\n",
       "Name: IdealCustomer, dtype: int64"
      ]
     },
     "execution_count": 9,
     "metadata": {},
     "output_type": "execute_result"
    }
   ],
   "source": [
    "df['IdealCustomer'].value_counts(dropna=False)"
   ]
  },
  {
   "cell_type": "code",
   "execution_count": 0,
   "metadata": {
    "application/vnd.databricks.v1+cell": {
     "cellMetadata": {
      "byteLimit": 2048000,
      "rowLimit": 10000
     },
     "inputWidgets": {},
     "nuid": "9ba6d954-a354-4b4a-af2d-6c30aa6f6dd7",
     "showTitle": false,
     "tableResultSettingsMap": {},
     "title": ""
    }
   },
   "outputs": [
    {
     "output_type": "execute_result",
     "data": {
      "text/html": [
       "<div>\n",
       "<style scoped>\n",
       "    .dataframe tbody tr th:only-of-type {\n",
       "        vertical-align: middle;\n",
       "    }\n",
       "\n",
       "    .dataframe tbody tr th {\n",
       "        vertical-align: top;\n",
       "    }\n",
       "\n",
       "    .dataframe thead th {\n",
       "        text-align: right;\n",
       "    }\n",
       "</style>\n",
       "<table border=\"1\" class=\"dataframe\">\n",
       "  <thead>\n",
       "    <tr style=\"text-align: right;\">\n",
       "      <th></th>\n",
       "      <th>Latitude</th>\n",
       "      <th>Longitude</th>\n",
       "    </tr>\n",
       "  </thead>\n",
       "  <tbody>\n",
       "    <tr>\n",
       "      <th>0</th>\n",
       "      <td>30.177795</td>\n",
       "      <td>-81.753150</td>\n",
       "    </tr>\n",
       "    <tr>\n",
       "      <th>1</th>\n",
       "      <td>28.918529</td>\n",
       "      <td>-81.945848</td>\n",
       "    </tr>\n",
       "    <tr>\n",
       "      <th>2</th>\n",
       "      <td>28.921654</td>\n",
       "      <td>-81.947432</td>\n",
       "    </tr>\n",
       "    <tr>\n",
       "      <th>3</th>\n",
       "      <td>30.279232</td>\n",
       "      <td>-83.030387</td>\n",
       "    </tr>\n",
       "    <tr>\n",
       "      <th>4</th>\n",
       "      <td>30.567437</td>\n",
       "      <td>-83.147350</td>\n",
       "    </tr>\n",
       "  </tbody>\n",
       "</table>\n",
       "</div>"
      ],
      "text/plain": [
       "    Latitude   Longitude\n",
       "0  30.177795  -81.753150\n",
       "1  28.918529  -81.945848\n",
       "2  28.921654  -81.947432\n",
       "3  30.279232  -83.030387\n",
       "4  30.567437  -83.147350"
      ]
     },
     "execution_count": 10,
     "metadata": {},
     "output_type": "execute_result"
    }
   ],
   "source": [
    "df[['Latitude', 'Longitude']].dropna().head()"
   ]
  },
  {
   "cell_type": "code",
   "execution_count": 0,
   "metadata": {
    "application/vnd.databricks.v1+cell": {
     "cellMetadata": {
      "byteLimit": 2048000,
      "rowLimit": 10000
     },
     "inputWidgets": {},
     "nuid": "cd330a69-3d9b-4e58-9b15-3546bcf11022",
     "showTitle": false,
     "tableResultSettingsMap": {},
     "title": ""
    }
   },
   "outputs": [
    {
     "output_type": "display_data",
     "data": {
      "text/plain": [
       "\u001B[0;31m---------------------------------------------------------------------------\u001B[0m\n",
       "\u001B[0;31mValueError\u001B[0m                                Traceback (most recent call last)\n",
       "File \u001B[0;32m<command-6002457635941688>, line 24\u001B[0m\n",
       "\u001B[1;32m     11\u001B[0m fig \u001B[38;5;241m=\u001B[39m px\u001B[38;5;241m.\u001B[39mscatter_mapbox(\n",
       "\u001B[1;32m     12\u001B[0m     zip_summary,\n",
       "\u001B[1;32m     13\u001B[0m     lat\u001B[38;5;241m=\u001B[39m\u001B[38;5;124m\"\u001B[39m\u001B[38;5;124mLatitude\u001B[39m\u001B[38;5;124m\"\u001B[39m,\n",
       "\u001B[0;32m   (...)\u001B[0m\n",
       "\u001B[1;32m     20\u001B[0m     center\u001B[38;5;241m=\u001B[39m{\u001B[38;5;124m\"\u001B[39m\u001B[38;5;124mlat\u001B[39m\u001B[38;5;124m\"\u001B[39m: \u001B[38;5;241m27.8\u001B[39m, \u001B[38;5;124m\"\u001B[39m\u001B[38;5;124mlon\u001B[39m\u001B[38;5;124m\"\u001B[39m: \u001B[38;5;241m-\u001B[39m\u001B[38;5;241m82.5\u001B[39m}\n",
       "\u001B[1;32m     21\u001B[0m )\n",
       "\u001B[1;32m     23\u001B[0m \u001B[38;5;66;03m# Add Florida boundary overlay\u001B[39;00m\n",
       "\u001B[0;32m---> 24\u001B[0m fig\u001B[38;5;241m.\u001B[39mupdate_layout(\n",
       "\u001B[1;32m     25\u001B[0m     mapbox\u001B[38;5;241m=\u001B[39m{\n",
       "\u001B[1;32m     26\u001B[0m         \u001B[38;5;124m\"\u001B[39m\u001B[38;5;124mlayers\u001B[39m\u001B[38;5;124m\"\u001B[39m: [{\n",
       "\u001B[1;32m     27\u001B[0m             \u001B[38;5;124m\"\u001B[39m\u001B[38;5;124msource\u001B[39m\u001B[38;5;124m\"\u001B[39m: florida_geojson,\n",
       "\u001B[1;32m     28\u001B[0m             \u001B[38;5;124m\"\u001B[39m\u001B[38;5;124mtype\u001B[39m\u001B[38;5;124m\"\u001B[39m: \u001B[38;5;124m\"\u001B[39m\u001B[38;5;124mline\u001B[39m\u001B[38;5;124m\"\u001B[39m,\n",
       "\u001B[1;32m     29\u001B[0m             \u001B[38;5;124m\"\u001B[39m\u001B[38;5;124mcolor\u001B[39m\u001B[38;5;124m\"\u001B[39m: \u001B[38;5;124m\"\u001B[39m\u001B[38;5;124mwhite\u001B[39m\u001B[38;5;124m\"\u001B[39m,\n",
       "\u001B[1;32m     30\u001B[0m             \u001B[38;5;124m\"\u001B[39m\u001B[38;5;124mline\u001B[39m\u001B[38;5;124m\"\u001B[39m: {\u001B[38;5;124m\"\u001B[39m\u001B[38;5;124mwidth\u001B[39m\u001B[38;5;124m\"\u001B[39m: \u001B[38;5;241m2\u001B[39m}\n",
       "\u001B[1;32m     31\u001B[0m         }],\n",
       "\u001B[1;32m     32\u001B[0m         \u001B[38;5;124m\"\u001B[39m\u001B[38;5;124mbounds\u001B[39m\u001B[38;5;124m\"\u001B[39m: {\n",
       "\u001B[1;32m     33\u001B[0m             \u001B[38;5;124m\"\u001B[39m\u001B[38;5;124mwest\u001B[39m\u001B[38;5;124m\"\u001B[39m: \u001B[38;5;241m-\u001B[39m\u001B[38;5;241m88.0\u001B[39m,   \u001B[38;5;66;03m# Westernmost part of Florida Panhandle\u001B[39;00m\n",
       "\u001B[1;32m     34\u001B[0m             \u001B[38;5;124m\"\u001B[39m\u001B[38;5;124meast\u001B[39m\u001B[38;5;124m\"\u001B[39m: \u001B[38;5;241m-\u001B[39m\u001B[38;5;241m79.5\u001B[39m,   \u001B[38;5;66;03m# Easternmost tip near Miami\u001B[39;00m\n",
       "\u001B[1;32m     35\u001B[0m             \u001B[38;5;124m\"\u001B[39m\u001B[38;5;124msouth\u001B[39m\u001B[38;5;124m\"\u001B[39m: \u001B[38;5;241m24.3\u001B[39m,   \u001B[38;5;66;03m# Southern Key West\u001B[39;00m\n",
       "\u001B[1;32m     36\u001B[0m             \u001B[38;5;124m\"\u001B[39m\u001B[38;5;124mnorth\u001B[39m\u001B[38;5;124m\"\u001B[39m: \u001B[38;5;241m31.0\u001B[39m    \u001B[38;5;66;03m# Northern edge bordering Georgia\u001B[39;00m\n",
       "\u001B[1;32m     37\u001B[0m         }\n",
       "\u001B[1;32m     38\u001B[0m     },\n",
       "\u001B[1;32m     39\u001B[0m     margin\u001B[38;5;241m=\u001B[39m{\u001B[38;5;124m\"\u001B[39m\u001B[38;5;124mr\u001B[39m\u001B[38;5;124m\"\u001B[39m:\u001B[38;5;241m0\u001B[39m, \u001B[38;5;124m\"\u001B[39m\u001B[38;5;124mt\u001B[39m\u001B[38;5;124m\"\u001B[39m:\u001B[38;5;241m0\u001B[39m, \u001B[38;5;124m\"\u001B[39m\u001B[38;5;124ml\u001B[39m\u001B[38;5;124m\"\u001B[39m:\u001B[38;5;241m0\u001B[39m, \u001B[38;5;124m\"\u001B[39m\u001B[38;5;124mb\u001B[39m\u001B[38;5;124m\"\u001B[39m:\u001B[38;5;241m0\u001B[39m}\n",
       "\u001B[1;32m     40\u001B[0m )\n",
       "\u001B[1;32m     42\u001B[0m fig\u001B[38;5;241m.\u001B[39mshow()\n",
       "\u001B[1;32m     44\u001B[0m \u001B[38;5;124;03m\"\"\"\u001B[39;00m\n",
       "\u001B[1;32m     45\u001B[0m \u001B[38;5;124;03mfig = px.scatter_mapbox(\u001B[39;00m\n",
       "\u001B[1;32m     46\u001B[0m \u001B[38;5;124;03m    zip_summary,\u001B[39;00m\n",
       "\u001B[0;32m   (...)\u001B[0m\n",
       "\u001B[1;32m     55\u001B[0m \n",
       "\u001B[1;32m     56\u001B[0m \u001B[38;5;124;03mfig.show() \"\"\"\u001B[39;00m\n",
       "\n",
       "File \u001B[0;32m/databricks/python/lib/python3.11/site-packages/plotly/graph_objs/_figure.py:740\u001B[0m, in \u001B[0;36mFigure.update_layout\u001B[0;34m(self, dict1, overwrite, **kwargs)\u001B[0m\n",
       "\u001B[1;32m    714\u001B[0m \u001B[38;5;28;01mdef\u001B[39;00m \u001B[38;5;21mupdate_layout\u001B[39m(\u001B[38;5;28mself\u001B[39m, dict1\u001B[38;5;241m=\u001B[39m\u001B[38;5;28;01mNone\u001B[39;00m, overwrite\u001B[38;5;241m=\u001B[39m\u001B[38;5;28;01mFalse\u001B[39;00m, \u001B[38;5;241m*\u001B[39m\u001B[38;5;241m*\u001B[39mkwargs) \u001B[38;5;241m-\u001B[39m\u001B[38;5;241m>\u001B[39m \u001B[38;5;124m\"\u001B[39m\u001B[38;5;124mFigure\u001B[39m\u001B[38;5;124m\"\u001B[39m:\n",
       "\u001B[1;32m    715\u001B[0m \u001B[38;5;250m    \u001B[39m\u001B[38;5;124;03m\"\"\"\u001B[39;00m\n",
       "\u001B[1;32m    716\u001B[0m \n",
       "\u001B[1;32m    717\u001B[0m \u001B[38;5;124;03m    Update the properties of the figure's layout with a dict and/or with\u001B[39;00m\n",
       "\u001B[0;32m   (...)\u001B[0m\n",
       "\u001B[1;32m    738\u001B[0m \n",
       "\u001B[1;32m    739\u001B[0m \u001B[38;5;124;03m    \"\"\"\u001B[39;00m\n",
       "\u001B[0;32m--> 740\u001B[0m     \u001B[38;5;28;01mreturn\u001B[39;00m \u001B[38;5;28msuper\u001B[39m(Figure, \u001B[38;5;28mself\u001B[39m)\u001B[38;5;241m.\u001B[39mupdate_layout(dict1, overwrite, \u001B[38;5;241m*\u001B[39m\u001B[38;5;241m*\u001B[39mkwargs)\n",
       "\n",
       "File \u001B[0;32m/databricks/python/lib/python3.11/site-packages/plotly/basedatatypes.py:1401\u001B[0m, in \u001B[0;36mBaseFigure.update_layout\u001B[0;34m(self, dict1, overwrite, **kwargs)\u001B[0m\n",
       "\u001B[1;32m   1377\u001B[0m \u001B[38;5;28;01mdef\u001B[39;00m \u001B[38;5;21mupdate_layout\u001B[39m(\u001B[38;5;28mself\u001B[39m, dict1\u001B[38;5;241m=\u001B[39m\u001B[38;5;28;01mNone\u001B[39;00m, overwrite\u001B[38;5;241m=\u001B[39m\u001B[38;5;28;01mFalse\u001B[39;00m, \u001B[38;5;241m*\u001B[39m\u001B[38;5;241m*\u001B[39mkwargs):\n",
       "\u001B[1;32m   1378\u001B[0m \u001B[38;5;250m    \u001B[39m\u001B[38;5;124;03m\"\"\"\u001B[39;00m\n",
       "\u001B[1;32m   1379\u001B[0m \u001B[38;5;124;03m    Update the properties of the figure's layout with a dict and/or with\u001B[39;00m\n",
       "\u001B[1;32m   1380\u001B[0m \u001B[38;5;124;03m    keyword arguments.\u001B[39;00m\n",
       "\u001B[0;32m   (...)\u001B[0m\n",
       "\u001B[1;32m   1399\u001B[0m \u001B[38;5;124;03m        The Figure object that the update_layout method was called on\u001B[39;00m\n",
       "\u001B[1;32m   1400\u001B[0m \u001B[38;5;124;03m    \"\"\"\u001B[39;00m\n",
       "\u001B[0;32m-> 1401\u001B[0m     \u001B[38;5;28mself\u001B[39m\u001B[38;5;241m.\u001B[39mlayout\u001B[38;5;241m.\u001B[39mupdate(dict1, overwrite\u001B[38;5;241m=\u001B[39moverwrite, \u001B[38;5;241m*\u001B[39m\u001B[38;5;241m*\u001B[39mkwargs)\n",
       "\u001B[1;32m   1402\u001B[0m     \u001B[38;5;28;01mreturn\u001B[39;00m \u001B[38;5;28mself\u001B[39m\n",
       "\n",
       "File \u001B[0;32m/databricks/python/lib/python3.11/site-packages/plotly/basedatatypes.py:5122\u001B[0m, in \u001B[0;36mBasePlotlyType.update\u001B[0;34m(self, dict1, overwrite, **kwargs)\u001B[0m\n",
       "\u001B[1;32m   5120\u001B[0m     \u001B[38;5;28;01mwith\u001B[39;00m \u001B[38;5;28mself\u001B[39m\u001B[38;5;241m.\u001B[39mfigure\u001B[38;5;241m.\u001B[39mbatch_update():\n",
       "\u001B[1;32m   5121\u001B[0m         BaseFigure\u001B[38;5;241m.\u001B[39m_perform_update(\u001B[38;5;28mself\u001B[39m, dict1, overwrite\u001B[38;5;241m=\u001B[39moverwrite)\n",
       "\u001B[0;32m-> 5122\u001B[0m         BaseFigure\u001B[38;5;241m.\u001B[39m_perform_update(\u001B[38;5;28mself\u001B[39m, kwargs, overwrite\u001B[38;5;241m=\u001B[39moverwrite)\n",
       "\u001B[1;32m   5123\u001B[0m \u001B[38;5;28;01melse\u001B[39;00m:\n",
       "\u001B[1;32m   5124\u001B[0m     BaseFigure\u001B[38;5;241m.\u001B[39m_perform_update(\u001B[38;5;28mself\u001B[39m, dict1, overwrite\u001B[38;5;241m=\u001B[39moverwrite)\n",
       "\n",
       "File \u001B[0;32m/databricks/python/lib/python3.11/site-packages/plotly/basedatatypes.py:3908\u001B[0m, in \u001B[0;36mBaseFigure._perform_update\u001B[0;34m(plotly_obj, update_obj, overwrite)\u001B[0m\n",
       "\u001B[1;32m   3902\u001B[0m validator \u001B[38;5;241m=\u001B[39m plotly_obj\u001B[38;5;241m.\u001B[39m_get_prop_validator(key)\n",
       "\u001B[1;32m   3904\u001B[0m \u001B[38;5;28;01mif\u001B[39;00m \u001B[38;5;28misinstance\u001B[39m(validator, CompoundValidator) \u001B[38;5;129;01mand\u001B[39;00m \u001B[38;5;28misinstance\u001B[39m(val, \u001B[38;5;28mdict\u001B[39m):\n",
       "\u001B[1;32m   3905\u001B[0m \n",
       "\u001B[1;32m   3906\u001B[0m     \u001B[38;5;66;03m# Update compound objects recursively\u001B[39;00m\n",
       "\u001B[1;32m   3907\u001B[0m     \u001B[38;5;66;03m# plotly_obj[key].update(val)\u001B[39;00m\n",
       "\u001B[0;32m-> 3908\u001B[0m     BaseFigure\u001B[38;5;241m.\u001B[39m_perform_update(plotly_obj[key], val)\n",
       "\u001B[1;32m   3909\u001B[0m \u001B[38;5;28;01melif\u001B[39;00m \u001B[38;5;28misinstance\u001B[39m(validator, CompoundArrayValidator):\n",
       "\u001B[1;32m   3910\u001B[0m     \u001B[38;5;28;01mif\u001B[39;00m plotly_obj[key]:\n",
       "\u001B[1;32m   3911\u001B[0m         \u001B[38;5;66;03m# plotly_obj has an existing non-empty array for key\u001B[39;00m\n",
       "\u001B[1;32m   3912\u001B[0m         \u001B[38;5;66;03m# In this case we merge val into the existing elements\u001B[39;00m\n",
       "\n",
       "File \u001B[0;32m/databricks/python/lib/python3.11/site-packages/plotly/basedatatypes.py:3885\u001B[0m, in \u001B[0;36mBaseFigure._perform_update\u001B[0;34m(plotly_obj, update_obj, overwrite)\u001B[0m\n",
       "\u001B[1;32m   3881\u001B[0m                 \u001B[38;5;28;01mcontinue\u001B[39;00m\n",
       "\u001B[1;32m   3882\u001B[0m         \u001B[38;5;66;03m# If no match, raise the error, which should already\u001B[39;00m\n",
       "\u001B[1;32m   3883\u001B[0m         \u001B[38;5;66;03m# contain the _raise_on_invalid_property_error\u001B[39;00m\n",
       "\u001B[1;32m   3884\u001B[0m         \u001B[38;5;66;03m# generated message\u001B[39;00m\n",
       "\u001B[0;32m-> 3885\u001B[0m         \u001B[38;5;28;01mraise\u001B[39;00m err\n",
       "\u001B[1;32m   3887\u001B[0m \u001B[38;5;66;03m# Convert update_obj to dict\u001B[39;00m\n",
       "\u001B[1;32m   3888\u001B[0m \u001B[38;5;66;03m# --------------------------\u001B[39;00m\n",
       "\u001B[1;32m   3889\u001B[0m \u001B[38;5;28;01mif\u001B[39;00m \u001B[38;5;28misinstance\u001B[39m(update_obj, BasePlotlyType):\n",
       "\n",
       "\u001B[0;31mValueError\u001B[0m: Invalid property specified for object of type plotly.graph_objs.layout.Mapbox: 'bounds'\n",
       "\n",
       "Did you mean \"domain\"?\n",
       "\n",
       "    Valid properties:\n",
       "        accesstoken\n",
       "            Sets the mapbox access token to be used for this mapbox\n",
       "            map. Alternatively, the mapbox access token can be set\n",
       "            in the configuration options under `mapboxAccessToken`.\n",
       "            Note that accessToken are only required when `style`\n",
       "            (e.g with values : basic, streets, outdoors, light,\n",
       "            dark, satellite, satellite-streets ) and/or a layout\n",
       "            layer references the Mapbox server.\n",
       "        bearing\n",
       "            Sets the bearing angle of the map in degrees counter-\n",
       "            clockwise from North (mapbox.bearing).\n",
       "        center\n",
       "            :class:`plotly.graph_objects.layout.mapbox.Center`\n",
       "            instance or dict with compatible properties\n",
       "        domain\n",
       "            :class:`plotly.graph_objects.layout.mapbox.Domain`\n",
       "            instance or dict with compatible properties\n",
       "        layers\n",
       "            A tuple of\n",
       "            :class:`plotly.graph_objects.layout.mapbox.Layer`\n",
       "            instances or dicts with compatible properties\n",
       "        layerdefaults\n",
       "            When used in a template (as\n",
       "            layout.template.layout.mapbox.layerdefaults), sets the\n",
       "            default property values to use for elements of\n",
       "            layout.mapbox.layers\n",
       "        pitch\n",
       "            Sets the pitch angle of the map (in degrees, where 0\n",
       "            means perpendicular to the surface of the map)\n",
       "            (mapbox.pitch).\n",
       "        style\n",
       "            Defines the map layers that are rendered by default\n",
       "            below the trace layers defined in `data`, which are\n",
       "            themselves by default rendered below the layers defined\n",
       "            in `layout.mapbox.layers`.  These layers can be defined\n",
       "            either explicitly as a Mapbox Style object which can\n",
       "            contain multiple layer definitions that load data from\n",
       "            any public or private Tile Map Service (TMS or XYZ) or\n",
       "            Web Map Service (WMS) or implicitly by using one of the\n",
       "            built-in style objects which use WMSes which do not\n",
       "            require any access tokens, or by using a default Mapbox\n",
       "            style or custom Mapbox style URL, both of which require\n",
       "            a Mapbox access token  Note that Mapbox access token\n",
       "            can be set in the `accesstoken` attribute or in the\n",
       "            `mapboxAccessToken` config option.  Mapbox Style\n",
       "            objects are of the form described in the Mapbox GL JS\n",
       "            documentation available at\n",
       "            https://docs.mapbox.com/mapbox-gl-js/style-spec  The\n",
       "            built-in plotly.js styles objects are: carto-\n",
       "            darkmatter, carto-positron, open-street-map, stamen-\n",
       "            terrain, stamen-toner, stamen-watercolor, white-bg  The\n",
       "            built-in Mapbox styles are: basic, streets, outdoors,\n",
       "            light, dark, satellite, satellite-streets  Mapbox style\n",
       "            URLs are of the form:\n",
       "            mapbox://mapbox.mapbox-<name>-<version>\n",
       "        uirevision\n",
       "            Controls persistence of user-driven changes in the\n",
       "            view: `center`, `zoom`, `bearing`, `pitch`. Defaults to\n",
       "            `layout.uirevision`.\n",
       "        zoom\n",
       "            Sets the zoom level of the map (mapbox.zoom).\n",
       "        \n",
       "Did you mean \"domain\"?\n",
       "\n",
       "Bad property path:\n",
       "bounds\n",
       "^^^^^^"
      ]
     },
     "metadata": {
      "application/vnd.databricks.v1+output": {
       "addedWidgets": {},
       "arguments": {},
       "datasetInfos": [],
       "jupyterProps": {
        "ename": "ValueError",
        "evalue": "Invalid property specified for object of type plotly.graph_objs.layout.Mapbox: 'bounds'\n\nDid you mean \"domain\"?\n\n    Valid properties:\n        accesstoken\n            Sets the mapbox access token to be used for this mapbox\n            map. Alternatively, the mapbox access token can be set\n            in the configuration options under `mapboxAccessToken`.\n            Note that accessToken are only required when `style`\n            (e.g with values : basic, streets, outdoors, light,\n            dark, satellite, satellite-streets ) and/or a layout\n            layer references the Mapbox server.\n        bearing\n            Sets the bearing angle of the map in degrees counter-\n            clockwise from North (mapbox.bearing).\n        center\n            :class:`plotly.graph_objects.layout.mapbox.Center`\n            instance or dict with compatible properties\n        domain\n            :class:`plotly.graph_objects.layout.mapbox.Domain`\n            instance or dict with compatible properties\n        layers\n            A tuple of\n            :class:`plotly.graph_objects.layout.mapbox.Layer`\n            instances or dicts with compatible properties\n        layerdefaults\n            When used in a template (as\n            layout.template.layout.mapbox.layerdefaults), sets the\n            default property values to use for elements of\n            layout.mapbox.layers\n        pitch\n            Sets the pitch angle of the map (in degrees, where 0\n            means perpendicular to the surface of the map)\n            (mapbox.pitch).\n        style\n            Defines the map layers that are rendered by default\n            below the trace layers defined in `data`, which are\n            themselves by default rendered below the layers defined\n            in `layout.mapbox.layers`.  These layers can be defined\n            either explicitly as a Mapbox Style object which can\n            contain multiple layer definitions that load data from\n            any public or private Tile Map Service (TMS or XYZ) or\n            Web Map Service (WMS) or implicitly by using one of the\n            built-in style objects which use WMSes which do not\n            require any access tokens, or by using a default Mapbox\n            style or custom Mapbox style URL, both of which require\n            a Mapbox access token  Note that Mapbox access token\n            can be set in the `accesstoken` attribute or in the\n            `mapboxAccessToken` config option.  Mapbox Style\n            objects are of the form described in the Mapbox GL JS\n            documentation available at\n            https://docs.mapbox.com/mapbox-gl-js/style-spec  The\n            built-in plotly.js styles objects are: carto-\n            darkmatter, carto-positron, open-street-map, stamen-\n            terrain, stamen-toner, stamen-watercolor, white-bg  The\n            built-in Mapbox styles are: basic, streets, outdoors,\n            light, dark, satellite, satellite-streets  Mapbox style\n            URLs are of the form:\n            mapbox://mapbox.mapbox-<name>-<version>\n        uirevision\n            Controls persistence of user-driven changes in the\n            view: `center`, `zoom`, `bearing`, `pitch`. Defaults to\n            `layout.uirevision`.\n        zoom\n            Sets the zoom level of the map (mapbox.zoom).\n        \nDid you mean \"domain\"?\n\nBad property path:\nbounds\n^^^^^^"
       },
       "metadata": {
        "errorSummary": "<span class='ansi-red-fg'>ValueError</span>: Invalid property specified for object of type plotly.graph_objs.layout.Mapbox: 'bounds'\n\nDid you mean \"domain\"?\n\n    Valid properties:\n        accesstoken\n            Sets the mapbox access token to be used for this mapbox\n            map. Alternatively, the mapbox access token can be set\n            in the configuration options under `mapboxAccessToken`.\n            Note that accessToken are only required when `style`\n            (e.g with values : basic, streets, outdoors, light,\n            dark, satellite, satellite-streets ) and/or a layout\n            layer references the Mapbox server.\n        bearing\n            Sets the bearing angle of the map in degrees counter-\n            clockwise from North (mapbox.bearing).\n        center\n            :class:`plotly.graph_objects.layout.mapbox.Center`\n            instance or dict with compatible properties\n        domain\n            :class:`plotly.graph_objects.layout.mapbox.Domain`\n            instance or dict with compatible properties\n        layers\n            A tuple of\n            :class:`plotly.graph_objects.layout.mapbox.Layer`\n            instances or dicts with compatible properties\n        layerdefaults\n            When used in a template (as\n            layout.template.layout.mapbox.layerdefaults), sets the\n            default property values to use for elements of\n            layout.mapbox.layers\n        pitch\n            Sets the pitch angle of the map (in degrees, where 0\n            means perpendicular to the surface of the map)\n            (mapbox.pitch).\n        style\n            Defines the map layers that are rendered by default\n            below the trace layers defined in `data`, which are\n            themselves by default rendered below the layers defined\n            in `layout.mapbox.layers`.  These layers can be defined\n            either explicitly as a Mapbox Style object which can\n            contain multiple layer definitions that load data from\n            any public or private Tile Map Service (TMS or XYZ) or\n            Web Map Service (WMS) or implicitly by using one of the\n            built-in style objects which use WMSes which do not\n            require any access tokens, or by using a default Mapbox\n            style or custom Mapbox style URL, both of which require\n            a Mapbox access token  Note that Mapbox access token\n            can be set in the `accesstoken` attribute or in the\n            `mapboxAccessToken` config option.  Mapbox Style\n            objects are of the form described in the Mapbox GL JS\n            documentation available at\n            https://docs.mapbox.com/mapbox-gl-js/style-spec  The\n            built-in plotly.js styles objects are: carto-\n            darkmatter, carto-positron, open-street-map, stamen-\n            terrain, stamen-toner, stamen-watercolor, white-bg  The\n            built-in Mapbox styles are: basic, streets, outdoors,\n            light, dark, satellite, satellite-streets  Mapbox style\n            URLs are of the form:\n            mapbox://mapbox.mapbox-<name>-<version>\n        uirevision\n            Controls persistence of user-driven changes in the\n            view: `center`, `zoom`, `bearing`, `pitch`. Defaults to\n            `layout.uirevision`.\n        zoom\n            Sets the zoom level of the map (mapbox.zoom).\n        \nDid you mean \"domain\"?\n\nBad property path:\nbounds\n^^^^^^"
       },
       "removedWidgets": [],
       "sqlProps": null,
       "stackFrames": [
        "\u001B[0;31m---------------------------------------------------------------------------\u001B[0m",
        "\u001B[0;31mValueError\u001B[0m                                Traceback (most recent call last)",
        "File \u001B[0;32m<command-6002457635941688>, line 24\u001B[0m\n\u001B[1;32m     11\u001B[0m fig \u001B[38;5;241m=\u001B[39m px\u001B[38;5;241m.\u001B[39mscatter_mapbox(\n\u001B[1;32m     12\u001B[0m     zip_summary,\n\u001B[1;32m     13\u001B[0m     lat\u001B[38;5;241m=\u001B[39m\u001B[38;5;124m\"\u001B[39m\u001B[38;5;124mLatitude\u001B[39m\u001B[38;5;124m\"\u001B[39m,\n\u001B[0;32m   (...)\u001B[0m\n\u001B[1;32m     20\u001B[0m     center\u001B[38;5;241m=\u001B[39m{\u001B[38;5;124m\"\u001B[39m\u001B[38;5;124mlat\u001B[39m\u001B[38;5;124m\"\u001B[39m: \u001B[38;5;241m27.8\u001B[39m, \u001B[38;5;124m\"\u001B[39m\u001B[38;5;124mlon\u001B[39m\u001B[38;5;124m\"\u001B[39m: \u001B[38;5;241m-\u001B[39m\u001B[38;5;241m82.5\u001B[39m}\n\u001B[1;32m     21\u001B[0m )\n\u001B[1;32m     23\u001B[0m \u001B[38;5;66;03m# Add Florida boundary overlay\u001B[39;00m\n\u001B[0;32m---> 24\u001B[0m fig\u001B[38;5;241m.\u001B[39mupdate_layout(\n\u001B[1;32m     25\u001B[0m     mapbox\u001B[38;5;241m=\u001B[39m{\n\u001B[1;32m     26\u001B[0m         \u001B[38;5;124m\"\u001B[39m\u001B[38;5;124mlayers\u001B[39m\u001B[38;5;124m\"\u001B[39m: [{\n\u001B[1;32m     27\u001B[0m             \u001B[38;5;124m\"\u001B[39m\u001B[38;5;124msource\u001B[39m\u001B[38;5;124m\"\u001B[39m: florida_geojson,\n\u001B[1;32m     28\u001B[0m             \u001B[38;5;124m\"\u001B[39m\u001B[38;5;124mtype\u001B[39m\u001B[38;5;124m\"\u001B[39m: \u001B[38;5;124m\"\u001B[39m\u001B[38;5;124mline\u001B[39m\u001B[38;5;124m\"\u001B[39m,\n\u001B[1;32m     29\u001B[0m             \u001B[38;5;124m\"\u001B[39m\u001B[38;5;124mcolor\u001B[39m\u001B[38;5;124m\"\u001B[39m: \u001B[38;5;124m\"\u001B[39m\u001B[38;5;124mwhite\u001B[39m\u001B[38;5;124m\"\u001B[39m,\n\u001B[1;32m     30\u001B[0m             \u001B[38;5;124m\"\u001B[39m\u001B[38;5;124mline\u001B[39m\u001B[38;5;124m\"\u001B[39m: {\u001B[38;5;124m\"\u001B[39m\u001B[38;5;124mwidth\u001B[39m\u001B[38;5;124m\"\u001B[39m: \u001B[38;5;241m2\u001B[39m}\n\u001B[1;32m     31\u001B[0m         }],\n\u001B[1;32m     32\u001B[0m         \u001B[38;5;124m\"\u001B[39m\u001B[38;5;124mbounds\u001B[39m\u001B[38;5;124m\"\u001B[39m: {\n\u001B[1;32m     33\u001B[0m             \u001B[38;5;124m\"\u001B[39m\u001B[38;5;124mwest\u001B[39m\u001B[38;5;124m\"\u001B[39m: \u001B[38;5;241m-\u001B[39m\u001B[38;5;241m88.0\u001B[39m,   \u001B[38;5;66;03m# Westernmost part of Florida Panhandle\u001B[39;00m\n\u001B[1;32m     34\u001B[0m             \u001B[38;5;124m\"\u001B[39m\u001B[38;5;124meast\u001B[39m\u001B[38;5;124m\"\u001B[39m: \u001B[38;5;241m-\u001B[39m\u001B[38;5;241m79.5\u001B[39m,   \u001B[38;5;66;03m# Easternmost tip near Miami\u001B[39;00m\n\u001B[1;32m     35\u001B[0m             \u001B[38;5;124m\"\u001B[39m\u001B[38;5;124msouth\u001B[39m\u001B[38;5;124m\"\u001B[39m: \u001B[38;5;241m24.3\u001B[39m,   \u001B[38;5;66;03m# Southern Key West\u001B[39;00m\n\u001B[1;32m     36\u001B[0m             \u001B[38;5;124m\"\u001B[39m\u001B[38;5;124mnorth\u001B[39m\u001B[38;5;124m\"\u001B[39m: \u001B[38;5;241m31.0\u001B[39m    \u001B[38;5;66;03m# Northern edge bordering Georgia\u001B[39;00m\n\u001B[1;32m     37\u001B[0m         }\n\u001B[1;32m     38\u001B[0m     },\n\u001B[1;32m     39\u001B[0m     margin\u001B[38;5;241m=\u001B[39m{\u001B[38;5;124m\"\u001B[39m\u001B[38;5;124mr\u001B[39m\u001B[38;5;124m\"\u001B[39m:\u001B[38;5;241m0\u001B[39m, \u001B[38;5;124m\"\u001B[39m\u001B[38;5;124mt\u001B[39m\u001B[38;5;124m\"\u001B[39m:\u001B[38;5;241m0\u001B[39m, \u001B[38;5;124m\"\u001B[39m\u001B[38;5;124ml\u001B[39m\u001B[38;5;124m\"\u001B[39m:\u001B[38;5;241m0\u001B[39m, \u001B[38;5;124m\"\u001B[39m\u001B[38;5;124mb\u001B[39m\u001B[38;5;124m\"\u001B[39m:\u001B[38;5;241m0\u001B[39m}\n\u001B[1;32m     40\u001B[0m )\n\u001B[1;32m     42\u001B[0m fig\u001B[38;5;241m.\u001B[39mshow()\n\u001B[1;32m     44\u001B[0m \u001B[38;5;124;03m\"\"\"\u001B[39;00m\n\u001B[1;32m     45\u001B[0m \u001B[38;5;124;03mfig = px.scatter_mapbox(\u001B[39;00m\n\u001B[1;32m     46\u001B[0m \u001B[38;5;124;03m    zip_summary,\u001B[39;00m\n\u001B[0;32m   (...)\u001B[0m\n\u001B[1;32m     55\u001B[0m \n\u001B[1;32m     56\u001B[0m \u001B[38;5;124;03mfig.show() \"\"\"\u001B[39;00m\n",
        "File \u001B[0;32m/databricks/python/lib/python3.11/site-packages/plotly/graph_objs/_figure.py:740\u001B[0m, in \u001B[0;36mFigure.update_layout\u001B[0;34m(self, dict1, overwrite, **kwargs)\u001B[0m\n\u001B[1;32m    714\u001B[0m \u001B[38;5;28;01mdef\u001B[39;00m \u001B[38;5;21mupdate_layout\u001B[39m(\u001B[38;5;28mself\u001B[39m, dict1\u001B[38;5;241m=\u001B[39m\u001B[38;5;28;01mNone\u001B[39;00m, overwrite\u001B[38;5;241m=\u001B[39m\u001B[38;5;28;01mFalse\u001B[39;00m, \u001B[38;5;241m*\u001B[39m\u001B[38;5;241m*\u001B[39mkwargs) \u001B[38;5;241m-\u001B[39m\u001B[38;5;241m>\u001B[39m \u001B[38;5;124m\"\u001B[39m\u001B[38;5;124mFigure\u001B[39m\u001B[38;5;124m\"\u001B[39m:\n\u001B[1;32m    715\u001B[0m \u001B[38;5;250m    \u001B[39m\u001B[38;5;124;03m\"\"\"\u001B[39;00m\n\u001B[1;32m    716\u001B[0m \n\u001B[1;32m    717\u001B[0m \u001B[38;5;124;03m    Update the properties of the figure's layout with a dict and/or with\u001B[39;00m\n\u001B[0;32m   (...)\u001B[0m\n\u001B[1;32m    738\u001B[0m \n\u001B[1;32m    739\u001B[0m \u001B[38;5;124;03m    \"\"\"\u001B[39;00m\n\u001B[0;32m--> 740\u001B[0m     \u001B[38;5;28;01mreturn\u001B[39;00m \u001B[38;5;28msuper\u001B[39m(Figure, \u001B[38;5;28mself\u001B[39m)\u001B[38;5;241m.\u001B[39mupdate_layout(dict1, overwrite, \u001B[38;5;241m*\u001B[39m\u001B[38;5;241m*\u001B[39mkwargs)\n",
        "File \u001B[0;32m/databricks/python/lib/python3.11/site-packages/plotly/basedatatypes.py:1401\u001B[0m, in \u001B[0;36mBaseFigure.update_layout\u001B[0;34m(self, dict1, overwrite, **kwargs)\u001B[0m\n\u001B[1;32m   1377\u001B[0m \u001B[38;5;28;01mdef\u001B[39;00m \u001B[38;5;21mupdate_layout\u001B[39m(\u001B[38;5;28mself\u001B[39m, dict1\u001B[38;5;241m=\u001B[39m\u001B[38;5;28;01mNone\u001B[39;00m, overwrite\u001B[38;5;241m=\u001B[39m\u001B[38;5;28;01mFalse\u001B[39;00m, \u001B[38;5;241m*\u001B[39m\u001B[38;5;241m*\u001B[39mkwargs):\n\u001B[1;32m   1378\u001B[0m \u001B[38;5;250m    \u001B[39m\u001B[38;5;124;03m\"\"\"\u001B[39;00m\n\u001B[1;32m   1379\u001B[0m \u001B[38;5;124;03m    Update the properties of the figure's layout with a dict and/or with\u001B[39;00m\n\u001B[1;32m   1380\u001B[0m \u001B[38;5;124;03m    keyword arguments.\u001B[39;00m\n\u001B[0;32m   (...)\u001B[0m\n\u001B[1;32m   1399\u001B[0m \u001B[38;5;124;03m        The Figure object that the update_layout method was called on\u001B[39;00m\n\u001B[1;32m   1400\u001B[0m \u001B[38;5;124;03m    \"\"\"\u001B[39;00m\n\u001B[0;32m-> 1401\u001B[0m     \u001B[38;5;28mself\u001B[39m\u001B[38;5;241m.\u001B[39mlayout\u001B[38;5;241m.\u001B[39mupdate(dict1, overwrite\u001B[38;5;241m=\u001B[39moverwrite, \u001B[38;5;241m*\u001B[39m\u001B[38;5;241m*\u001B[39mkwargs)\n\u001B[1;32m   1402\u001B[0m     \u001B[38;5;28;01mreturn\u001B[39;00m \u001B[38;5;28mself\u001B[39m\n",
        "File \u001B[0;32m/databricks/python/lib/python3.11/site-packages/plotly/basedatatypes.py:5122\u001B[0m, in \u001B[0;36mBasePlotlyType.update\u001B[0;34m(self, dict1, overwrite, **kwargs)\u001B[0m\n\u001B[1;32m   5120\u001B[0m     \u001B[38;5;28;01mwith\u001B[39;00m \u001B[38;5;28mself\u001B[39m\u001B[38;5;241m.\u001B[39mfigure\u001B[38;5;241m.\u001B[39mbatch_update():\n\u001B[1;32m   5121\u001B[0m         BaseFigure\u001B[38;5;241m.\u001B[39m_perform_update(\u001B[38;5;28mself\u001B[39m, dict1, overwrite\u001B[38;5;241m=\u001B[39moverwrite)\n\u001B[0;32m-> 5122\u001B[0m         BaseFigure\u001B[38;5;241m.\u001B[39m_perform_update(\u001B[38;5;28mself\u001B[39m, kwargs, overwrite\u001B[38;5;241m=\u001B[39moverwrite)\n\u001B[1;32m   5123\u001B[0m \u001B[38;5;28;01melse\u001B[39;00m:\n\u001B[1;32m   5124\u001B[0m     BaseFigure\u001B[38;5;241m.\u001B[39m_perform_update(\u001B[38;5;28mself\u001B[39m, dict1, overwrite\u001B[38;5;241m=\u001B[39moverwrite)\n",
        "File \u001B[0;32m/databricks/python/lib/python3.11/site-packages/plotly/basedatatypes.py:3908\u001B[0m, in \u001B[0;36mBaseFigure._perform_update\u001B[0;34m(plotly_obj, update_obj, overwrite)\u001B[0m\n\u001B[1;32m   3902\u001B[0m validator \u001B[38;5;241m=\u001B[39m plotly_obj\u001B[38;5;241m.\u001B[39m_get_prop_validator(key)\n\u001B[1;32m   3904\u001B[0m \u001B[38;5;28;01mif\u001B[39;00m \u001B[38;5;28misinstance\u001B[39m(validator, CompoundValidator) \u001B[38;5;129;01mand\u001B[39;00m \u001B[38;5;28misinstance\u001B[39m(val, \u001B[38;5;28mdict\u001B[39m):\n\u001B[1;32m   3905\u001B[0m \n\u001B[1;32m   3906\u001B[0m     \u001B[38;5;66;03m# Update compound objects recursively\u001B[39;00m\n\u001B[1;32m   3907\u001B[0m     \u001B[38;5;66;03m# plotly_obj[key].update(val)\u001B[39;00m\n\u001B[0;32m-> 3908\u001B[0m     BaseFigure\u001B[38;5;241m.\u001B[39m_perform_update(plotly_obj[key], val)\n\u001B[1;32m   3909\u001B[0m \u001B[38;5;28;01melif\u001B[39;00m \u001B[38;5;28misinstance\u001B[39m(validator, CompoundArrayValidator):\n\u001B[1;32m   3910\u001B[0m     \u001B[38;5;28;01mif\u001B[39;00m plotly_obj[key]:\n\u001B[1;32m   3911\u001B[0m         \u001B[38;5;66;03m# plotly_obj has an existing non-empty array for key\u001B[39;00m\n\u001B[1;32m   3912\u001B[0m         \u001B[38;5;66;03m# In this case we merge val into the existing elements\u001B[39;00m\n",
        "File \u001B[0;32m/databricks/python/lib/python3.11/site-packages/plotly/basedatatypes.py:3885\u001B[0m, in \u001B[0;36mBaseFigure._perform_update\u001B[0;34m(plotly_obj, update_obj, overwrite)\u001B[0m\n\u001B[1;32m   3881\u001B[0m                 \u001B[38;5;28;01mcontinue\u001B[39;00m\n\u001B[1;32m   3882\u001B[0m         \u001B[38;5;66;03m# If no match, raise the error, which should already\u001B[39;00m\n\u001B[1;32m   3883\u001B[0m         \u001B[38;5;66;03m# contain the _raise_on_invalid_property_error\u001B[39;00m\n\u001B[1;32m   3884\u001B[0m         \u001B[38;5;66;03m# generated message\u001B[39;00m\n\u001B[0;32m-> 3885\u001B[0m         \u001B[38;5;28;01mraise\u001B[39;00m err\n\u001B[1;32m   3887\u001B[0m \u001B[38;5;66;03m# Convert update_obj to dict\u001B[39;00m\n\u001B[1;32m   3888\u001B[0m \u001B[38;5;66;03m# --------------------------\u001B[39;00m\n\u001B[1;32m   3889\u001B[0m \u001B[38;5;28;01mif\u001B[39;00m \u001B[38;5;28misinstance\u001B[39m(update_obj, BasePlotlyType):\n",
        "\u001B[0;31mValueError\u001B[0m: Invalid property specified for object of type plotly.graph_objs.layout.Mapbox: 'bounds'\n\nDid you mean \"domain\"?\n\n    Valid properties:\n        accesstoken\n            Sets the mapbox access token to be used for this mapbox\n            map. Alternatively, the mapbox access token can be set\n            in the configuration options under `mapboxAccessToken`.\n            Note that accessToken are only required when `style`\n            (e.g with values : basic, streets, outdoors, light,\n            dark, satellite, satellite-streets ) and/or a layout\n            layer references the Mapbox server.\n        bearing\n            Sets the bearing angle of the map in degrees counter-\n            clockwise from North (mapbox.bearing).\n        center\n            :class:`plotly.graph_objects.layout.mapbox.Center`\n            instance or dict with compatible properties\n        domain\n            :class:`plotly.graph_objects.layout.mapbox.Domain`\n            instance or dict with compatible properties\n        layers\n            A tuple of\n            :class:`plotly.graph_objects.layout.mapbox.Layer`\n            instances or dicts with compatible properties\n        layerdefaults\n            When used in a template (as\n            layout.template.layout.mapbox.layerdefaults), sets the\n            default property values to use for elements of\n            layout.mapbox.layers\n        pitch\n            Sets the pitch angle of the map (in degrees, where 0\n            means perpendicular to the surface of the map)\n            (mapbox.pitch).\n        style\n            Defines the map layers that are rendered by default\n            below the trace layers defined in `data`, which are\n            themselves by default rendered below the layers defined\n            in `layout.mapbox.layers`.  These layers can be defined\n            either explicitly as a Mapbox Style object which can\n            contain multiple layer definitions that load data from\n            any public or private Tile Map Service (TMS or XYZ) or\n            Web Map Service (WMS) or implicitly by using one of the\n            built-in style objects which use WMSes which do not\n            require any access tokens, or by using a default Mapbox\n            style or custom Mapbox style URL, both of which require\n            a Mapbox access token  Note that Mapbox access token\n            can be set in the `accesstoken` attribute or in the\n            `mapboxAccessToken` config option.  Mapbox Style\n            objects are of the form described in the Mapbox GL JS\n            documentation available at\n            https://docs.mapbox.com/mapbox-gl-js/style-spec  The\n            built-in plotly.js styles objects are: carto-\n            darkmatter, carto-positron, open-street-map, stamen-\n            terrain, stamen-toner, stamen-watercolor, white-bg  The\n            built-in Mapbox styles are: basic, streets, outdoors,\n            light, dark, satellite, satellite-streets  Mapbox style\n            URLs are of the form:\n            mapbox://mapbox.mapbox-<name>-<version>\n        uirevision\n            Controls persistence of user-driven changes in the\n            view: `center`, `zoom`, `bearing`, `pitch`. Defaults to\n            `layout.uirevision`.\n        zoom\n            Sets the zoom level of the map (mapbox.zoom).\n        \nDid you mean \"domain\"?\n\nBad property path:\nbounds\n^^^^^^"
       ],
       "type": "baseError"
      }
     },
     "output_type": "display_data"
    }
   ],
   "source": [
    "import plotly.express as px\n",
    "import requests\n",
    "import json\n",
    "\n",
    "# Load Florida GeoJSON directly from GitHub\n",
    "url = \"https://raw.githubusercontent.com/glynnbird/usstatesgeojson/master/florida.geojson\"\n",
    "response = requests.get(url)\n",
    "florida_geojson = response.json()\n",
    "\n",
    "# Create the scatter map\n",
    "fig = px.scatter_mapbox(\n",
    "    zip_summary,\n",
    "    lat=\"Latitude\",\n",
    "    lon=\"Longitude\",\n",
    "    size=\"ideal_count\",\n",
    "    color=\"ideal_count\",\n",
    "    hover_name=\"ZIPCode\",\n",
    "    mapbox_style=\"carto-darkmatter\",  # Dark style for contrast (optional)\n",
    "    zoom=6,\n",
    "    center={\"lat\": 27.8, \"lon\": -82.5}\n",
    ")\n",
    "\n",
    "# Add Florida boundary overlay\n",
    "fig.update_layout(\n",
    "    mapbox={\n",
    "        \"layers\": [{\n",
    "            \"source\": florida_geojson,\n",
    "            \"type\": \"line\",\n",
    "            \"color\": \"white\",\n",
    "            \"line\": {\"width\": 2}\n",
    "        }],\n",
    "        \"bounds\": {\n",
    "            \"west\": -88.0,   # Westernmost part of Florida Panhandle\n",
    "            \"east\": -79.5,   # Easternmost tip near Miami\n",
    "            \"south\": 24.3,   # Southern Key West\n",
    "            \"north\": 31.0    # Northern edge bordering Georgia\n",
    "        }\n",
    "    },\n",
    "    margin={\"r\":0, \"t\":0, \"l\":0, \"b\":0}\n",
    ")\n",
    "\n",
    "fig.show()\n",
    "\n",
    "\"\"\"\n",
    "fig = px.scatter_mapbox(\n",
    "    zip_summary,\n",
    "    lat=\"Latitude\",\n",
    "    lon=\"Longitude\",\n",
    "    size=\"ideal_count\",\n",
    "    color=\"ideal_count\",\n",
    "    hover_name=\"ZIPCode\",\n",
    "    mapbox_style=\"carto-positron\",\n",
    "    zoom=5\n",
    ")\n",
    "\n",
    "fig.show() \"\"\"\n"
   ]
  },
  {
   "cell_type": "code",
   "execution_count": 0,
   "metadata": {
    "application/vnd.databricks.v1+cell": {
     "cellMetadata": {
      "byteLimit": 2048000,
      "rowLimit": 10000
     },
     "inputWidgets": {},
     "nuid": "ba8281d3-ffa4-4093-abdc-55edcab780b6",
     "showTitle": false,
     "tableResultSettingsMap": {},
     "title": ""
    }
   },
   "outputs": [
    {
     "output_type": "stream",
     "name": "stdout",
     "output_type": "stream",
     "text": [
      "Wrote 16206672 bytes.\nWrote 18061 bytes.\n"
     ]
    },
    {
     "output_type": "execute_result",
     "data": {
      "text/plain": [
       "True"
      ]
     },
     "execution_count": 15,
     "metadata": {},
     "output_type": "execute_result"
    }
   ],
   "source": [
    "import pandas as pd\n",
    "from io import StringIO\n",
    "\n",
    "# Convert DataFrame to CSV string\n",
    "csv_data = StringIO()\n",
    "df.to_csv(csv_data, index=False)\n",
    "csv_data.seek(0)\n",
    "\n",
    "# Write CSV string to DBFS\n",
    "dbutils.fs.put(\"/FileStore/cleaned_customers.csv\", csv_data.getvalue(), overwrite=True)\n",
    "\n",
    "# Repeat for the second DataFrame\n",
    "csv_data = StringIO()\n",
    "zip_summary.to_csv(csv_data, index=False)\n",
    "csv_data.seek(0)\n",
    "\n",
    "dbutils.fs.put(\"/FileStore/zip_summary.csv\", csv_data.getvalue(), overwrite=True)"
   ]
  },
  {
   "cell_type": "code",
   "execution_count": 0,
   "metadata": {
    "application/vnd.databricks.v1+cell": {
     "cellMetadata": {
      "byteLimit": 2048000,
      "rowLimit": 10000
     },
     "inputWidgets": {},
     "nuid": "61d6e8e6-9e06-4ec8-88ec-9ca9769cfc7d",
     "showTitle": false,
     "tableResultSettingsMap": {},
     "title": ""
    }
   },
   "outputs": [
    {
     "output_type": "stream",
     "name": "stdout",
     "output_type": "stream",
     "text": [
      "Collecting streamlit\n  Downloading streamlit-1.45.0-py3-none-any.whl.metadata (8.9 kB)\nCollecting altair<6,>=4.0 (from streamlit)\n  Downloading altair-5.5.0-py3-none-any.whl.metadata (11 kB)\nCollecting blinker<2,>=1.5.0 (from streamlit)\n  Downloading blinker-1.9.0-py3-none-any.whl.metadata (1.6 kB)\nRequirement already satisfied: cachetools<6,>=4.0 in /databricks/python3/lib/python3.11/site-packages (from streamlit) (5.5.0)\nRequirement already satisfied: click<9,>=7.0 in /databricks/python3/lib/python3.11/site-packages (from streamlit) (8.0.4)\nRequirement already satisfied: numpy<3,>=1.23 in /databricks/python3/lib/python3.11/site-packages (from streamlit) (1.23.5)\nRequirement already satisfied: packaging<25,>=20 in /databricks/python3/lib/python3.11/site-packages (from streamlit) (23.2)\nRequirement already satisfied: pandas<3,>=1.4.0 in /databricks/python3/lib/python3.11/site-packages (from streamlit) (1.5.3)\nRequirement already satisfied: pillow<12,>=7.1.0 in /databricks/python3/lib/python3.11/site-packages (from streamlit) (10.3.0)\nRequirement already satisfied: protobuf<7,>=3.20 in /databricks/python3/lib/python3.11/site-packages (from streamlit) (5.29.3)\nRequirement already satisfied: pyarrow>=7.0 in /databricks/python3/lib/python3.11/site-packages (from streamlit) (14.0.1)\nRequirement already satisfied: requests<3,>=2.27 in /databricks/python3/lib/python3.11/site-packages (from streamlit) (2.31.0)\nRequirement already satisfied: tenacity<10,>=8.1.0 in /databricks/python3/lib/python3.11/site-packages (from streamlit) (8.2.2)\nCollecting toml<2,>=0.10.1 (from streamlit)\n  Downloading toml-0.10.2-py2.py3-none-any.whl.metadata (7.1 kB)\nRequirement already satisfied: typing-extensions<5,>=4.4.0 in /databricks/python3/lib/python3.11/site-packages (from streamlit) (4.10.0)\nCollecting watchdog<7,>=2.1.5 (from streamlit)\n  Downloading watchdog-6.0.0-py3-none-manylinux2014_x86_64.whl.metadata (44 kB)\nRequirement already satisfied: gitpython!=3.1.19,<4,>=3.0.7 in /databricks/python3/lib/python3.11/site-packages (from streamlit) (3.1.43)\nCollecting pydeck<1,>=0.8.0b4 (from streamlit)\n  Downloading pydeck-0.9.1-py2.py3-none-any.whl.metadata (4.1 kB)\nRequirement already satisfied: tornado<7,>=6.0.3 in /databricks/python3/lib/python3.11/site-packages (from streamlit) (6.3.2)\nRequirement already satisfied: jinja2 in /local_disk0/.ephemeral_nfs/envs/pythonEnv-ddef3110-a1f1-4ca1-8f85-7432ea75bbe3/lib/python3.11/site-packages (from altair<6,>=4.0->streamlit) (3.1.6)\nCollecting jsonschema>=3.0 (from altair<6,>=4.0->streamlit)\n  Downloading jsonschema-4.23.0-py3-none-any.whl.metadata (7.9 kB)\nCollecting narwhals>=1.14.2 (from altair<6,>=4.0->streamlit)\n  Downloading narwhals-1.38.1-py3-none-any.whl.metadata (9.3 kB)\nRequirement already satisfied: gitdb<5,>=4.0.1 in /databricks/python3/lib/python3.11/site-packages (from gitpython!=3.1.19,<4,>=3.0.7->streamlit) (4.0.11)\nRequirement already satisfied: python-dateutil>=2.8.1 in /databricks/python3/lib/python3.11/site-packages (from pandas<3,>=1.4.0->streamlit) (2.8.2)\nRequirement already satisfied: pytz>=2020.1 in /databricks/python3/lib/python3.11/site-packages (from pandas<3,>=1.4.0->streamlit) (2022.7)\nRequirement already satisfied: charset-normalizer<4,>=2 in /databricks/python3/lib/python3.11/site-packages (from requests<3,>=2.27->streamlit) (2.0.4)\nRequirement already satisfied: idna<4,>=2.5 in /databricks/python3/lib/python3.11/site-packages (from requests<3,>=2.27->streamlit) (3.4)\nRequirement already satisfied: urllib3<3,>=1.21.1 in /databricks/python3/lib/python3.11/site-packages (from requests<3,>=2.27->streamlit) (1.26.16)\nRequirement already satisfied: certifi>=2017.4.17 in /databricks/python3/lib/python3.11/site-packages (from requests<3,>=2.27->streamlit) (2023.7.22)\nRequirement already satisfied: smmap<6,>=3.0.1 in /databricks/python3/lib/python3.11/site-packages (from gitdb<5,>=4.0.1->gitpython!=3.1.19,<4,>=3.0.7->streamlit) (5.0.1)\nRequirement already satisfied: MarkupSafe>=2.0 in /local_disk0/.ephemeral_nfs/envs/pythonEnv-ddef3110-a1f1-4ca1-8f85-7432ea75bbe3/lib/python3.11/site-packages (from jinja2->altair<6,>=4.0->streamlit) (3.0.2)\nCollecting attrs>=22.2.0 (from jsonschema>=3.0->altair<6,>=4.0->streamlit)\n  Downloading attrs-25.3.0-py3-none-any.whl.metadata (10 kB)\nCollecting jsonschema-specifications>=2023.03.6 (from jsonschema>=3.0->altair<6,>=4.0->streamlit)\n  Downloading jsonschema_specifications-2025.4.1-py3-none-any.whl.metadata (2.9 kB)\nCollecting referencing>=0.28.4 (from jsonschema>=3.0->altair<6,>=4.0->streamlit)\n  Downloading referencing-0.36.2-py3-none-any.whl.metadata (2.8 kB)\nCollecting rpds-py>=0.7.1 (from jsonschema>=3.0->altair<6,>=4.0->streamlit)\n  Downloading rpds_py-0.24.0-cp311-cp311-manylinux_2_17_x86_64.manylinux2014_x86_64.whl.metadata (4.1 kB)\nRequirement already satisfied: six>=1.5 in /usr/lib/python3/dist-packages (from python-dateutil>=2.8.1->pandas<3,>=1.4.0->streamlit) (1.16.0)\nDownloading streamlit-1.45.0-py3-none-any.whl (9.9 MB)\n\u001B[?25l   \u001B[90m━━━━━━━━━━━━━━━━━━━━━━━━━━━━━━━━━━━━━━━━\u001B[0m \u001B[32m0.0/9.9 MB\u001B[0m \u001B[31m?\u001B[0m eta \u001B[36m-:--:--\u001B[0m\n\u001B[2K   \u001B[90m━━━━━━━━━━━━━━━━━━━━━━━━━━━━━━━━━━━━━━━━\u001B[0m \u001B[32m9.9/9.9 MB\u001B[0m \u001B[31m99.1 MB/s\u001B[0m eta \u001B[36m0:00:00\u001B[0m\n\u001B[?25hDownloading altair-5.5.0-py3-none-any.whl (731 kB)\n\u001B[?25l   \u001B[90m━━━━━━━━━━━━━━━━━━━━━━━━━━━━━━━━━━━━━━━━\u001B[0m \u001B[32m0.0/731.2 kB\u001B[0m \u001B[31m?\u001B[0m eta \u001B[36m-:--:--\u001B[0m\n\u001B[2K   \u001B[90m━━━━━━━━━━━━━━━━━━━━━━━━━━━━━━━━━━━━━━━━\u001B[0m \u001B[32m731.2/731.2 kB\u001B[0m \u001B[31m56.6 MB/s\u001B[0m eta \u001B[36m0:00:00\u001B[0m\n\u001B[?25hDownloading blinker-1.9.0-py3-none-any.whl (8.5 kB)\nDownloading pydeck-0.9.1-py2.py3-none-any.whl (6.9 MB)\n\u001B[?25l   \u001B[90m━━━━━━━━━━━━━━━━━━━━━━━━━━━━━━━━━━━━━━━━\u001B[0m \u001B[32m0.0/6.9 MB\u001B[0m \u001B[31m?\u001B[0m eta \u001B[36m-:--:--\u001B[0m\n\u001B[2K   \u001B[90m━━━━━━━━━━━━━━━━━━━━━━━━━━━━━━━━━━━━━━━━\u001B[0m \u001B[32m6.9/6.9 MB\u001B[0m \u001B[31m129.0 MB/s\u001B[0m eta \u001B[36m0:00:00\u001B[0m\n\u001B[?25hDownloading toml-0.10.2-py2.py3-none-any.whl (16 kB)\nDownloading watchdog-6.0.0-py3-none-manylinux2014_x86_64.whl (79 kB)\nDownloading jsonschema-4.23.0-py3-none-any.whl (88 kB)\nDownloading narwhals-1.38.1-py3-none-any.whl (338 kB)\nDownloading attrs-25.3.0-py3-none-any.whl (63 kB)\nDownloading jsonschema_specifications-2025.4.1-py3-none-any.whl (18 kB)\nDownloading referencing-0.36.2-py3-none-any.whl (26 kB)\nDownloading rpds_py-0.24.0-cp311-cp311-manylinux_2_17_x86_64.manylinux2014_x86_64.whl (389 kB)\nInstalling collected packages: watchdog, toml, rpds-py, narwhals, blinker, attrs, referencing, pydeck, jsonschema-specifications, jsonschema, altair, streamlit\n  Attempting uninstall: blinker\n    Found existing installation: blinker 1.4\n    Not uninstalling blinker at /usr/lib/python3/dist-packages, outside environment /local_disk0/.ephemeral_nfs/envs/pythonEnv-ddef3110-a1f1-4ca1-8f85-7432ea75bbe3\n    Can't uninstall 'blinker'. No files were found to uninstall.\nSuccessfully installed altair-5.5.0 attrs-25.3.0 blinker-1.9.0 jsonschema-4.23.0 jsonschema-specifications-2025.4.1 narwhals-1.38.1 pydeck-0.9.1 referencing-0.36.2 rpds-py-0.24.0 streamlit-1.45.0 toml-0.10.2 watchdog-6.0.0\n\u001B[43mNote: you may need to restart the kernel using %restart_python or dbutils.library.restartPython() to use updated packages.\u001B[0m\n"
     ]
    }
   ],
   "source": [
    "%pip install streamlit"
   ]
  },
  {
   "cell_type": "code",
   "execution_count": 0,
   "metadata": {
    "application/vnd.databricks.v1+cell": {
     "cellMetadata": {
      "byteLimit": 2048000,
      "rowLimit": 10000
     },
     "inputWidgets": {},
     "nuid": "a69e241e-7e65-48fe-be20-4ae9316d3a49",
     "showTitle": false,
     "tableResultSettingsMap": {},
     "title": ""
    }
   },
   "outputs": [
    {
     "output_type": "stream",
     "name": "stderr",
     "output_type": "stream",
     "text": [
      "2025-05-08 13:47:09.759 Thread 'MainThread': missing ScriptRunContext! This warning can be ignored when running in bare mode.\n2025-05-08 13:47:09.760 Thread 'MainThread': missing ScriptRunContext! This warning can be ignored when running in bare mode.\n2025-05-08 13:47:09.762 Thread 'MainThread': missing ScriptRunContext! This warning can be ignored when running in bare mode.\n2025-05-08 13:47:09.762 Thread 'MainThread': missing ScriptRunContext! This warning can be ignored when running in bare mode.\n2025-05-08 13:47:09.763 Thread 'MainThread': missing ScriptRunContext! This warning can be ignored when running in bare mode.\n2025-05-08 13:47:09.764 Thread 'MainThread': missing ScriptRunContext! This warning can be ignored when running in bare mode.\n2025-05-08 13:47:09.765 Thread 'MainThread': missing ScriptRunContext! This warning can be ignored when running in bare mode.\n2025-05-08 13:47:09.766 Thread 'MainThread': missing ScriptRunContext! This warning can be ignored when running in bare mode.\n2025-05-08 13:47:09.767 Thread 'MainThread': missing ScriptRunContext! This warning can be ignored when running in bare mode.\n2025-05-08 13:47:09.768 Thread 'MainThread': missing ScriptRunContext! This warning can be ignored when running in bare mode.\n2025-05-08 13:47:09.769 Thread 'MainThread': missing ScriptRunContext! This warning can be ignored when running in bare mode.\n2025-05-08 13:47:09.770 Thread 'MainThread': missing ScriptRunContext! This warning can be ignored when running in bare mode.\n2025-05-08 13:47:09.771 Thread 'MainThread': missing ScriptRunContext! This warning can be ignored when running in bare mode.\n2025-05-08 13:47:09.773 Thread 'MainThread': missing ScriptRunContext! This warning can be ignored when running in bare mode.\n2025-05-08 13:47:09.774 Thread 'MainThread': missing ScriptRunContext! This warning can be ignored when running in bare mode.\n2025-05-08 13:47:09.774 Thread 'MainThread': missing ScriptRunContext! This warning can be ignored when running in bare mode.\n2025-05-08 13:47:09.776 Thread 'MainThread': missing ScriptRunContext! This warning can be ignored when running in bare mode.\n2025-05-08 13:47:09.777 Thread 'MainThread': missing ScriptRunContext! This warning can be ignored when running in bare mode.\n2025-05-08 13:47:09.778 Thread 'MainThread': missing ScriptRunContext! This warning can be ignored when running in bare mode.\n2025-05-08 13:47:09.778 Thread 'MainThread': missing ScriptRunContext! This warning can be ignored when running in bare mode.\n2025-05-08 13:47:09.779 Thread 'MainThread': missing ScriptRunContext! This warning can be ignored when running in bare mode.\n2025-05-08 13:47:09.779 Thread 'MainThread': missing ScriptRunContext! This warning can be ignored when running in bare mode.\n2025-05-08 13:47:09.781 Thread 'MainThread': missing ScriptRunContext! This warning can be ignored when running in bare mode.\n2025-05-08 13:47:09.782 Thread 'MainThread': missing ScriptRunContext! This warning can be ignored when running in bare mode.\n2025-05-08 13:47:09.783 Thread 'MainThread': missing ScriptRunContext! This warning can be ignored when running in bare mode.\n2025-05-08 13:47:09.784 Thread 'MainThread': missing ScriptRunContext! This warning can be ignored when running in bare mode.\n2025-05-08 13:47:09.785 Thread 'MainThread': missing ScriptRunContext! This warning can be ignored when running in bare mode.\n2025-05-08 13:47:09.786 Thread 'MainThread': missing ScriptRunContext! This warning can be ignored when running in bare mode.\n2025-05-08 13:47:09.787 Thread 'MainThread': missing ScriptRunContext! This warning can be ignored when running in bare mode.\n2025-05-08 13:47:09.789 Thread 'MainThread': missing ScriptRunContext! This warning can be ignored when running in bare mode.\n2025-05-08 13:47:09.790 Thread 'MainThread': missing ScriptRunContext! This warning can be ignored when running in bare mode.\n"
     ]
    }
   ],
   "source": [
    "import streamlit as st\n",
    "import pandas as pd\n",
    "import plotly.express as px\n",
    "\n",
    "# Load your cleaned dataset from DBFS using Spark\n",
    "df_spark = spark.read.csv(\"/FileStore/cleaned_customers.csv\", header=True, inferSchema=True)\n",
    "df = df_spark.toPandas()\n",
    "\n",
    "# Title\n",
    "st.title(\"Find Your Ideal Customers by ZIP Code\")\n",
    "\n",
    "# Sidebar filters\n",
    "st.sidebar.header(\"Define Your Ideal Customer\")\n",
    "traits = {\n",
    "    'Has Children': 'PresenceOfChildrenInd',\n",
    "    'Food & Wine Interest': 'FoodWines',\n",
    "    'Upscale Lifestyle': 'UpscaleLiving',\n",
    "    'Online Purchaser': 'OnlinePurchasingIndicator',\n",
    "    'Likes Jewelry': 'Jewelry'\n",
    "}\n",
    "\n",
    "selected_traits = [v for k, v in traits.items() if st.sidebar.checkbox(k)]\n",
    "\n",
    "# Only run the rest if user selected at least one checkbox\n",
    "if selected_traits:\n",
    "    # Ensure selected columns are numeric\n",
    "    for col in selected_traits:\n",
    "        df[col] = pd.to_numeric(df[col], errors='coerce')\n",
    "\n",
    "    # Filter based on number of matching traits\n",
    "    filter_condition = df[selected_traits].sum(axis=1) >= len(selected_traits)\n",
    "    filtered_df = df[filter_condition]\n",
    "\n",
    "    # Group by ZIP\n",
    "    zip_summary = (\n",
    "        filtered_df.groupby(\"ZIPCode\")\n",
    "        .agg(\n",
    "            ideal_count=('CustomerID', 'count'),\n",
    "            Latitude=('Latitude', 'first'),\n",
    "            Longitude=('Longitude', 'first')\n",
    "        )\n",
    "        .reset_index()\n",
    "        .dropna(subset=['Latitude', 'Longitude'])\n",
    "    )\n",
    "\n",
    "    # Convert to numeric if needed\n",
    "    zip_summary['Latitude'] = pd.to_numeric(zip_summary['Latitude'], errors='coerce')\n",
    "    zip_summary['Longitude'] = pd.to_numeric(zip_summary['Longitude'], errors='coerce')\n",
    "\n",
    "    # Map\n",
    "    st.subheader(\"Matching ZIP Codes\")\n",
    "    fig = px.scatter_mapbox(\n",
    "        zip_summary,\n",
    "        lat=\"Latitude\",\n",
    "        lon=\"Longitude\",\n",
    "        size=\"ideal_count\",\n",
    "        color=\"ideal_count\",\n",
    "        hover_name=\"ZIPCode\",\n",
    "        mapbox_style=\"carto-positron\",\n",
    "        zoom=5\n",
    "    )\n",
    "    st.plotly_chart(fig)\n",
    "\n",
    "    # Table\n",
    "    st.subheader(\"Summary Table\")\n",
    "    st.dataframe(zip_summary.sort_values(\"ideal_count\", ascending=False))\n",
    "\n",
    "else:\n",
    "    st.warning(\"Please select at least one trait to search.\")\n"
   ]
  }
 ],
 "metadata": {
  "application/vnd.databricks.v1+notebook": {
   "computePreferences": null,
   "dashboards": [],
   "environmentMetadata": {
    "base_environment": "",
    "environment_version": "2"
   },
   "inputWidgetPreferences": null,
   "language": "python",
   "notebookMetadata": {
    "pythonIndentUnit": 4
   },
   "notebookName": "Elif EDA 2",
   "widgets": {}
  },
  "language_info": {
   "name": "python"
  }
 },
 "nbformat": 4,
 "nbformat_minor": 0
}